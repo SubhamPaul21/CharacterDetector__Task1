{
 "cells": [
  {
   "cell_type": "markdown",
   "id": "c3f6b20f",
   "metadata": {},
   "source": [
    "## Task 1 -- Object Character Recognition using OpenCV and Pytesseract\n",
    "\n",
    "### Author: Subham Paul \n",
    "\n",
    "[LinkedIn](https://www.linkedin.com/in/subham-paul-079795142/)"
   ]
  },
  {
   "cell_type": "markdown",
   "id": "37039d04",
   "metadata": {},
   "source": [
    "<hr>"
   ]
  },
  {
   "cell_type": "markdown",
   "id": "e449120f",
   "metadata": {},
   "source": [
    "<b>What is Optical Character Recognition (OCR)?</b>\n",
    "\n",
    "OCR, or Optical Character Recognition, is a process of recognizing text inside images and scanned documents"
   ]
  },
  {
   "cell_type": "markdown",
   "id": "c45fbc2f",
   "metadata": {},
   "source": [
    "<b>What is OpenCV?</b>\n",
    "\n",
    "OpenCV (Open Source Computer Vision Library) is an open source computer vision and machine learning software library.\n",
    "\n",
    "<b>Pytesseract</b>\n",
    "\n",
    "This is a Python wrapper for Tesseract. Using this you can easily implement your own text recognizer using Tesseract OCR by writing a simple Python script.\n",
    "\n",
    "\n",
    "Steps to install Pytesseract -->\n",
    "\n",
    "* Install tesseract using windows installer available at: https://github.com/UB-Mannheim/tesseract/wiki\n",
    "* pip install pytesseract\n",
    "* Set the tesseract path in the script before calling image_to_string:\n",
    "    * pytesseract.pytesseract.tesseract_cmd = r'C:\\Users\\<user_name>\\AppData\\Local\\Tesseract-OCR\\tesseract.exe'\n",
    "    * if not found in AppDate\\Local --> try finding it in C:\\Program Files\\Tesseract-OCR and set the tesseract path to\n",
    "        * pytesseract.pytesseract.tesseract_cmd = r'C:\\Program Files\\Tesseract-OCR\\tesseract.exe'"
   ]
  },
  {
   "cell_type": "markdown",
   "id": "acf7de57",
   "metadata": {},
   "source": [
    "##### Import modules and Read Image file"
   ]
  },
  {
   "cell_type": "code",
   "execution_count": 1,
   "id": "f6b886eb",
   "metadata": {},
   "outputs": [],
   "source": [
    "## Import required libraries\n",
    "\n",
    "import cv2\n",
    "import pytesseract"
   ]
  },
  {
   "cell_type": "code",
   "execution_count": 2,
   "id": "3dc8761a",
   "metadata": {},
   "outputs": [],
   "source": [
    "# set the pytesseract path\n",
    "pytesseract.pytesseract.tesseract_cmd = r'C:\\Program Files\\Tesseract-OCR\\tesseract.exe'"
   ]
  },
  {
   "cell_type": "code",
   "execution_count": 3,
   "id": "5c52db06",
   "metadata": {},
   "outputs": [],
   "source": [
    "## read image from files folder\n",
    "#image = cv2.imread(\"../files/test.jpg\")\n",
    "image = cv2.imread(\"../files/text_image.png\")\n",
    "\n",
    "# ## Check if the loaded image is the correct one.\n",
    "# while True:\n",
    "#     cv2.imshow(\"image\", image)\n",
    "#     if cv2.waitKey(0) & 0xFF == ord('q'):\n",
    "#         break\n",
    "    \n",
    "# ## destory any open windows by open cv\n",
    "# cv2.destroyAllWindows()"
   ]
  },
  {
   "cell_type": "markdown",
   "id": "5471f3b9",
   "metadata": {},
   "source": [
    "##### Preprocessing methods using OpenCV"
   ]
  },
  {
   "cell_type": "code",
   "execution_count": 4,
   "id": "da498799",
   "metadata": {},
   "outputs": [],
   "source": [
    "# gray scale\n",
    "\n",
    "def gray(image):\n",
    "    \n",
    "    gray_img = cv2.cvtColor(image, cv2.COLOR_BGR2GRAY)\n",
    "    cv2.imwrite(r\"../files/gray_image.png\", gray_img)\n",
    "    return gray_img"
   ]
  },
  {
   "cell_type": "code",
   "execution_count": 5,
   "id": "2fb4c188",
   "metadata": {},
   "outputs": [],
   "source": [
    "# blur image\n",
    "\n",
    "def blur(image):\n",
    "    \n",
    "    blur_img = cv2.GaussianBlur(src=image, ksize=(5,5), sigmaX=0)\n",
    "    cv2.imwrite(r\"../files/blur_image.png\", blur_img)\n",
    "    return blur_img"
   ]
  },
  {
   "cell_type": "code",
   "execution_count": 6,
   "id": "c38d0942",
   "metadata": {},
   "outputs": [],
   "source": [
    "# threshold\n",
    "\n",
    "def threshold(image):\n",
    "    \n",
    "    #pixels with value below 100 are turned black (0) and those with higher value are turned white (255)\n",
    "    \n",
    "    ## Syntax: cv2.threshold(source, thresholdValue, maxVal, thresholdingTechnique) \n",
    "    _ , thres_img = cv2.threshold(image, 100, 255, cv2.THRESH_OTSU | cv2.THRESH_BINARY)    \n",
    "    cv2.imwrite(r\"../files/threshold_image.png\", thres_img)\n",
    "    return thres_img"
   ]
  },
  {
   "cell_type": "markdown",
   "id": "32c53be0",
   "metadata": {},
   "source": [
    "##### Detect contours to extract chunks of data"
   ]
  },
  {
   "cell_type": "code",
   "execution_count": 7,
   "id": "807cabf2",
   "metadata": {},
   "outputs": [],
   "source": [
    "# Finding contours\n",
    "\n",
    "im_gray = gray(image)\n",
    "im_blur = blur(im_gray)\n",
    "im_thresh = threshold(im_blur)\n",
    "\n",
    "contours, _ = cv2.findContours(im_thresh, cv2.RETR_EXTERNAL, cv2.CHAIN_APPROX_NONE)"
   ]
  },
  {
   "cell_type": "markdown",
   "id": "4fb58487",
   "metadata": {},
   "source": [
    "##### Method to detect texts on the contours"
   ]
  },
  {
   "cell_type": "code",
   "execution_count": 8,
   "id": "edafd3bc",
   "metadata": {},
   "outputs": [],
   "source": [
    "# text detection\n",
    "\n",
    "def detect_contours_text(image, contours):\n",
    "    \n",
    "    for contour in contours:\n",
    "        x, y, w, h = cv2.boundingRect(contour)\n",
    "        \n",
    "        # cropping the detected text rectangle to feed to OCR\n",
    "        cropped = image[y: y + h, x:x + w]\n",
    "        \n",
    "        # Apply OCR on this cropped image\n",
    "        \n",
    "        #set configurations ( pre-defined )\n",
    "        config = ('-l eng --oem 3 --psm 3')\n",
    "        \n",
    "        # get text using pytesseract\n",
    "        text = pytesseract.image_to_string(cropped, config=config)\n",
    "        \n",
    "        text = text.split(\"\\n\")\n",
    "        text = \" \".join(text)\n",
    "        \n",
    "        print(text)\n",
    "        # Detect and draw rectangle around text on copied image\n",
    "        img_copy = image.copy()\n",
    "        rect = cv2.rectangle(img_copy, (x, y), (x + w, y + h), (0, 255, 255), 2)\n",
    "    \n",
    "    \n",
    "    return rect"
   ]
  },
  {
   "cell_type": "markdown",
   "id": "586272e3",
   "metadata": {},
   "source": [
    "##### Predict and Detect text"
   ]
  },
  {
   "cell_type": "code",
   "execution_count": 9,
   "id": "74910ac8",
   "metadata": {},
   "outputs": [
    {
     "name": "stdout",
     "output_type": "stream",
     "text": [
      "Hope is the one thing that can help us get through the darkest of times. \f",
      "\n"
     ]
    }
   ],
   "source": [
    "while True:\n",
    "    cv2.imshow(\"contour_image\", detect_contours_text(image, contours))\n",
    "    if cv2.waitKey(0) & 0xFF == ord('q'):\n",
    "        break\n",
    "        \n",
    "# destory any open windows by open cv\n",
    "cv2.destroyAllWindows()"
   ]
  },
  {
   "cell_type": "code",
   "execution_count": null,
   "id": "d0ea0f89",
   "metadata": {},
   "outputs": [],
   "source": []
  }
 ],
 "metadata": {
  "kernelspec": {
   "display_name": "Python 3",
   "language": "python",
   "name": "python3"
  },
  "language_info": {
   "codemirror_mode": {
    "name": "ipython",
    "version": 3
   },
   "file_extension": ".py",
   "mimetype": "text/x-python",
   "name": "python",
   "nbconvert_exporter": "python",
   "pygments_lexer": "ipython3",
   "version": "3.8.10"
  }
 },
 "nbformat": 4,
 "nbformat_minor": 5
}
